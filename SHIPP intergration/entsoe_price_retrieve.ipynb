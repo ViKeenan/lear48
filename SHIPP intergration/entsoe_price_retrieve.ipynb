{
 "cells": [
  {
   "cell_type": "code",
   "execution_count": null,
   "id": "dd123e8f",
   "metadata": {},
   "outputs": [
    {
     "name": "stdout",
     "output_type": "stream",
     "text": [
      "Requirement already satisfied: entsoe-py in c:\\users\\keena\\miniconda3\\envs\\epftoolbox\\lib\\site-packages (0.7.1)\n",
      "Requirement already satisfied: requests in c:\\users\\keena\\miniconda3\\envs\\epftoolbox\\lib\\site-packages (from entsoe-py) (2.32.3)\n",
      "Requirement already satisfied: pytz in c:\\users\\keena\\miniconda3\\envs\\epftoolbox\\lib\\site-packages (from entsoe-py) (2025.2)\n",
      "Requirement already satisfied: beautifulsoup4>=4.11.1 in c:\\users\\keena\\miniconda3\\envs\\epftoolbox\\lib\\site-packages (from entsoe-py) (4.13.4)\n",
      "Requirement already satisfied: pandas>=2.2.0 in c:\\users\\keena\\miniconda3\\envs\\epftoolbox\\lib\\site-packages (from entsoe-py) (2.2.3)\n",
      "Requirement already satisfied: soupsieve>1.2 in c:\\users\\keena\\miniconda3\\envs\\epftoolbox\\lib\\site-packages (from beautifulsoup4>=4.11.1->entsoe-py) (2.7)\n",
      "Requirement already satisfied: typing-extensions>=4.0.0 in c:\\users\\keena\\miniconda3\\envs\\epftoolbox\\lib\\site-packages (from beautifulsoup4>=4.11.1->entsoe-py) (4.13.2)\n",
      "Requirement already satisfied: numpy>=1.22.4 in c:\\users\\keena\\miniconda3\\envs\\epftoolbox\\lib\\site-packages (from pandas>=2.2.0->entsoe-py) (1.26.4)\n",
      "Requirement already satisfied: python-dateutil>=2.8.2 in c:\\users\\keena\\miniconda3\\envs\\epftoolbox\\lib\\site-packages (from pandas>=2.2.0->entsoe-py) (2.9.0.post0)\n",
      "Requirement already satisfied: tzdata>=2022.7 in c:\\users\\keena\\miniconda3\\envs\\epftoolbox\\lib\\site-packages (from pandas>=2.2.0->entsoe-py) (2025.2)\n",
      "Requirement already satisfied: six>=1.5 in c:\\users\\keena\\miniconda3\\envs\\epftoolbox\\lib\\site-packages (from python-dateutil>=2.8.2->pandas>=2.2.0->entsoe-py) (1.17.0)\n",
      "Requirement already satisfied: charset-normalizer<4,>=2 in c:\\users\\keena\\miniconda3\\envs\\epftoolbox\\lib\\site-packages (from requests->entsoe-py) (3.4.2)\n",
      "Requirement already satisfied: idna<4,>=2.5 in c:\\users\\keena\\miniconda3\\envs\\epftoolbox\\lib\\site-packages (from requests->entsoe-py) (3.10)\n",
      "Requirement already satisfied: urllib3<3,>=1.21.1 in c:\\users\\keena\\miniconda3\\envs\\epftoolbox\\lib\\site-packages (from requests->entsoe-py) (2.4.0)\n",
      "Requirement already satisfied: certifi>=2017.4.17 in c:\\users\\keena\\miniconda3\\envs\\epftoolbox\\lib\\site-packages (from requests->entsoe-py) (2025.4.26)\n"
     ]
    }
   ],
   "source": [
    "from entsoe import EntsoePandasClient\n",
    "import pandas as pd\n",
    "import matplotlib.pyplot as plt"
   ]
  },
  {
   "cell_type": "code",
   "execution_count": 2,
   "id": "9664dc70",
   "metadata": {},
   "outputs": [],
   "source": [
    "# Setup client\n",
    "client = EntsoePandasClient(api_key='1206c24a-2fb6-4ec3-a47f-0e1be10dacd4')  \n",
    "\n",
    "# Define zone: for example, Netherlands is 'NL'\n",
    "country_code = 'NL'\n",
    "\n",
    "# Define time period\n",
    "start = pd.Timestamp(\"2017-01-01 00:00\", tz='Europe/Amsterdam')\n",
    "end   = pd.Timestamp(\"2019-04-01 00:00\", tz='Europe/Amsterdam')\n"
   ]
  },
  {
   "cell_type": "code",
   "execution_count": 3,
   "id": "f083075e",
   "metadata": {},
   "outputs": [],
   "source": [
    "day_ahead_price = client.query_day_ahead_prices(country_code, start=start, end=end)\n",
    "load_forecast = client.query_load_forecast(country_code, start=start, end=end)\n",
    "wind_forecast = client.query_wind_and_solar_forecast(country_code, start=start, end=end)\n"
   ]
  },
  {
   "cell_type": "code",
   "execution_count": 4,
   "id": "0cc297d3",
   "metadata": {},
   "outputs": [],
   "source": [
    "# Combine wind forecasts\n",
    "wind_forecast_series = (\n",
    "    wind_forecast['Wind Onshore'] + wind_forecast['Wind Offshore']\n",
    ")\n",
    "\n",
    "# Extract 1D series from load forecast\n",
    "load_forecast_series = load_forecast.iloc[:, 0]\n",
    "\n",
    "# Construct final DataFrame using 1D Series only\n",
    "df = pd.DataFrame({\n",
    "    'Price': day_ahead_price.squeeze(),\n",
    "    'Grid load forecast': load_forecast_series,\n",
    "    'Wind power forecast': wind_forecast_series,\n",
    "}).reset_index().rename(columns={'index': 'Date'})\n",
    "\n",
    "df = df.resample('h', on='Date').mean()\n"
   ]
  },
  {
   "cell_type": "code",
   "execution_count": 5,
   "id": "c0e454d4",
   "metadata": {},
   "outputs": [],
   "source": [
    "# If the index is a datetime index, reset it\n",
    "if df.index.name == 'Date' or df.index.name is not None:\n",
    "    df = df.reset_index()\n",
    "\n",
    "# Make sure the column is named 'Date'\n",
    "df.rename(columns={df.columns[0]: 'Date'}, inplace=True)\n",
    "df['Date'] = pd.to_datetime(df['Date']).dt.tz_localize(None)\n",
    "\n"
   ]
  },
  {
   "cell_type": "code",
   "execution_count": 6,
   "id": "b57e1a80",
   "metadata": {},
   "outputs": [
    {
     "name": "stdout",
     "output_type": "stream",
     "text": [
      "                 Date  Price  Grid load forecast  Wind power forecast\n",
      "0 2017-01-01 00:00:00  42.00            11186.00              1456.75\n",
      "1 2017-01-01 01:00:00  49.94            10492.75              1502.25\n",
      "2 2017-01-01 02:00:00  51.95             9893.75              1530.75\n",
      "3 2017-01-01 03:00:00  40.99             9529.75              1568.50\n",
      "4 2017-01-01 04:00:00  39.00             9477.25              1580.00\n",
      "                     Date  Price  Grid load forecast  Wind power forecast\n",
      "19675 2019-03-31 20:00:00  41.80            10318.00              2046.25\n",
      "19676 2019-03-31 21:00:00  39.08            10105.75              2065.00\n",
      "19677 2019-03-31 22:00:00  40.30             9632.50              2024.25\n",
      "19678 2019-03-31 23:00:00  37.51             9007.75              1887.25\n",
      "19679 2019-04-01 00:00:00  31.06                 NaN                  NaN\n",
      "                    Date  Price  Grid load forecast  Wind power forecast\n",
      "2018 2017-03-26 03:00:00  26.97            10178.75               946.75\n"
     ]
    }
   ],
   "source": [
    "print(df.head())\n",
    "print(df.tail())\n",
    "print(df[df['Date'] == '2017-03-26 03:00:00'])"
   ]
  },
  {
   "cell_type": "code",
   "execution_count": 7,
   "id": "b71c00ec",
   "metadata": {},
   "outputs": [],
   "source": [
    "# Ensure datetime and sorted\n",
    "df['Date'] = pd.to_datetime(df['Date'])\n",
    "df = df.sort_values('Date')\n",
    "\n",
    "# Remove duplicates\n",
    "df = df.drop_duplicates('Date', keep='first')  # or .groupby(...)\n",
    "\n",
    "# Reindex\n",
    "df = df.set_index('Date')\n",
    "full_range = pd.date_range(start=df.index.min(), end=df.index.max(), freq='h')\n",
    "df = df.reindex(full_range)\n",
    "\n",
    "# Fill missing\n",
    "df = df.ffill()\n",
    "\n",
    "# Reset index\n",
    "df.index.name = 'Date'\n",
    "df = df.reset_index()"
   ]
  },
  {
   "cell_type": "code",
   "execution_count": 8,
   "id": "62a6250c",
   "metadata": {},
   "outputs": [],
   "source": [
    "from pathlib import Path\n",
    "\n",
    "# Define the path one level up and into 'datasets'\n",
    "output_path = Path(\"..\") / \"datasets\" / \"2019NLDAP.csv\"\n",
    "output_path.parent.mkdir(parents=True, exist_ok=True)\n",
    "\n",
    "# Save CSV\n",
    "df.to_csv(output_path, index=False)\n"
   ]
  },
  {
   "cell_type": "code",
   "execution_count": null,
   "id": "62040f87",
   "metadata": {},
   "outputs": [],
   "source": []
  },
  {
   "cell_type": "code",
   "execution_count": null,
   "id": "29f753fe",
   "metadata": {},
   "outputs": [],
   "source": []
  }
 ],
 "metadata": {
  "kernelspec": {
   "display_name": "epftoolbox",
   "language": "python",
   "name": "python3"
  },
  "language_info": {
   "codemirror_mode": {
    "name": "ipython",
    "version": 3
   },
   "file_extension": ".py",
   "mimetype": "text/x-python",
   "name": "python",
   "nbconvert_exporter": "python",
   "pygments_lexer": "ipython3",
   "version": "3.10.16"
  }
 },
 "nbformat": 4,
 "nbformat_minor": 5
}
